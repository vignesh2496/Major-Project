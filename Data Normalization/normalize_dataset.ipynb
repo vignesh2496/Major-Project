{
 "cells": [
  {
   "cell_type": "code",
   "execution_count": 1,
   "metadata": {
    "collapsed": false
   },
   "outputs": [
    {
     "name": "stdout",
     "output_type": "stream",
     "text": [
      "1\n",
      "[u'cancer_data']\n"
     ]
    }
   ],
   "source": [
    "import numpy as np\n",
    "import pandas as pd\n",
    "from xlrd import open_workbook\n",
    "\n",
    "book = open_workbook(\"cancer_data.xlsx\")\n",
    "# print number of sheets\n",
    "print book.nsheets\n",
    " \n",
    "# print sheet names\n",
    "print book.sheet_names()"
   ]
  },
  {
   "cell_type": "code",
   "execution_count": 2,
   "metadata": {
    "collapsed": false
   },
   "outputs": [
    {
     "name": "stdout",
     "output_type": "stream",
     "text": [
      "Data input successful\n",
      "Number of entries = 569\n",
      "Number of features = 30\n"
     ]
    }
   ],
   "source": [
    "data = pd.read_csv(\"cancer_data.csv\")\n",
    "\n",
    "print \"Data input successful\"\n",
    "\n",
    "#number of entries\n",
    "n_entries = data.shape[0]\n",
    "print \"Number of entries = \" + str(n_entries)\n",
    "\n",
    "#number of features\n",
    "n_features = data.shape[1] - 1\n",
    "print \"Number of features = \" + str(n_features)"
   ]
  },
  {
   "cell_type": "code",
   "execution_count": 3,
   "metadata": {
    "collapsed": false
   },
   "outputs": [
    {
     "name": "stdout",
     "output_type": "stream",
     "text": [
      "Feature columns are : \n",
      "['radius_mean', 'texture_mean', 'perimeter_mean', 'area_mean', 'smoothness_mean', 'compactness_mean', 'concavity_mean', 'concave points_mean', 'symmetry_mean', 'fractal_dimension_mean', 'radius_se', 'texture_se', 'perimeter_se', 'area_se', 'smoothness_se', 'compactness_se', 'concavity_se', 'concave points_se', 'symmetry_se', 'fractal_dimension_se', 'radius_worst', 'texture_worst', 'perimeter_worst', 'area_worst', 'smoothness_worst', 'compactness_worst', 'concavity_worst', 'concave points_worst', 'symmetry_worst', 'fractal_dimension_worst']\n",
      "\n",
      "\n",
      "\n",
      "Target column is : \n",
      "diagnosis\n",
      "\n"
     ]
    },
    {
     "name": "stderr",
     "output_type": "stream",
     "text": [
      "/home/harsh/anaconda/lib/python2.7/site-packages/openpyxl/workbook/workbook.py:102: UserWarning: Call to deprecated function or class get_active_sheet (Use the .active property).\n",
      "  def get_active_sheet(self):\n",
      "/home/harsh/anaconda/lib/python2.7/site-packages/openpyxl/workbook/workbook.py:102: UserWarning: Call to deprecated function or class get_active_sheet (Use the .active property).\n",
      "  def get_active_sheet(self):\n"
     ]
    }
   ],
   "source": [
    "import openpyxl\n",
    "from openpyxl import Workbook\n",
    "from openpyxl.styles import Color, PatternFill, Font, Border\n",
    "from openpyxl.styles import colors\n",
    "from openpyxl.cell import Cell\n",
    "import xlrd\n",
    "from openpyxl import load_workbook\n",
    "from openpyxl import worksheet\n",
    "\n",
    "# Extract feature columns\n",
    "feature_cols = list(data.columns[:-1])\n",
    "\n",
    "# Extract target column 'passed'\n",
    "target_col = data.columns[-1] \n",
    "\n",
    "print \"Feature columns are : \\n{}\\n\\n\".format(feature_cols)\n",
    "print \"\\nTarget column is : \\n{}\\n\".format(target_col)\n",
    "\n",
    "wb = load_workbook('cancer_data.xlsx')\n",
    "ws = wb.get_active_sheet()\n",
    "\n",
    "wb_write = Workbook()\n",
    "ws_write = wb_write.get_active_sheet()"
   ]
  },
  {
   "cell_type": "code",
   "execution_count": 6,
   "metadata": {
    "collapsed": false
   },
   "outputs": [],
   "source": [
    "for i in range(1,n_features + 1):\n",
    "    \n",
    "    # assigning min and max values as the first entry in each feature column\n",
    "    min_cell = ws.cell(row = 2, column = i)\n",
    "    max_cell = ws.cell(row = 2, column = i)\n",
    "\n",
    "    for j in range(2,n_entries+2):\n",
    "        curr_cell = ws.cell(row=j, column=i)\n",
    "        \n",
    "        if max_cell.value < curr_cell.value:\n",
    "            max_cell = curr_cell\n",
    "        \n",
    "        elif min_cell.value > curr_cell.value:\n",
    "            min_cell = curr_cell\n",
    "            \n",
    "    # max and min values have been obtained\n",
    "    # print max_cell.value\n",
    "    # print min_cell.value\n",
    "    \n",
    "    # assigning normalized values\n",
    "    \n",
    "    for j in range(2,n_entries + 2):\n",
    "        curr_cell = ws.cell(row=j, column=i)\n",
    "        write_cell = ws_write.cell(row=j, column=i)\n",
    "        \n",
    "        write_cell.value = (curr_cell.value - min_cell.value)/(max_cell.value - min_cell.value)\n",
    "        \n",
    "# copy target variable column (LAST COLUMN)\n",
    "for i in range(1, n_entries + 2):\n",
    "    write_cell = ws_write.cell(row=i, column=n_features+1)\n",
    "    curr_cell = ws.cell(row=i, column=n_features+1)\n",
    "    \n",
    "    if curr_cell.value == 'M':\n",
    "        write_cell.value = 1\n",
    "    else :\n",
    "        write_cell.value = 0\n",
    "    \n",
    "# copy feature title row (ROW 1)\n",
    "for i in range(1, n_features + 2):\n",
    "    write_cell = ws_write.cell(row=1, column=i)\n",
    "    curr_cell = ws.cell(row=1, column=i)\n",
    "    \n",
    "    write_cell.value = curr_cell.value\n",
    "      \n",
    "wb_write.save('new_data.xlsx')\n",
    "    "
   ]
  },
  {
   "cell_type": "code",
   "execution_count": null,
   "metadata": {
    "collapsed": true
   },
   "outputs": [],
   "source": []
  }
 ],
 "metadata": {
  "anaconda-cloud": {},
  "kernelspec": {
   "display_name": "Python [conda root]",
   "language": "python",
   "name": "conda-root-py"
  },
  "language_info": {
   "codemirror_mode": {
    "name": "ipython",
    "version": 2
   },
   "file_extension": ".py",
   "mimetype": "text/x-python",
   "name": "python",
   "nbconvert_exporter": "python",
   "pygments_lexer": "ipython2",
   "version": "2.7.12"
  }
 },
 "nbformat": 4,
 "nbformat_minor": 1
}
