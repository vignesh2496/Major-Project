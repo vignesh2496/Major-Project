{
 "cells": [
  {
   "cell_type": "code",
   "execution_count": 31,
   "metadata": {
    "collapsed": false
   },
   "outputs": [],
   "source": [
    "from sym_cascade import Feature, Stage, Cascade\n",
    "from sklearn.cross_validation import train_test_split\n",
    "import numpy as np\n",
    "\n",
    "# Limits\n",
    "MAXEXP = 700\n",
    "MINEXP = -MAXEXP"
   ]
  },
  {
   "cell_type": "code",
   "execution_count": 32,
   "metadata": {
    "collapsed": false
   },
   "outputs": [],
   "source": [
    "df = np.load('/home/vignesh/Desktop/Major-Project/Dataset/Cancer_Dataset/normalized_cancer_data.npy')\n",
    "# Make train and test sets\n",
    "X = df[:, : df.shape[1] - 1]\n",
    "Y = df[:, 30]\n",
    "X_train, X_test, Y_train, Y_test = train_test_split(X, Y, test_size = 0.33, random_state = 11)"
   ]
  },
  {
   "cell_type": "code",
   "execution_count": 33,
   "metadata": {
    "collapsed": true
   },
   "outputs": [],
   "source": [
    "# Create costs\n",
    "cost = np.zeros(30)\n",
    "for i in range(29):\n",
    "    cost[i] = (i + 1) * 0.00215\n",
    "cost[29] = 1 - sum(cost)\n",
    "\n",
    "# Create features\n",
    "f = []\n",
    "for i in range(30):\n",
    "    feature = Feature(i, cost[i], 'f%d' % i)\n",
    "    f.append(feature)"
   ]
  },
  {
   "cell_type": "code",
   "execution_count": 34,
   "metadata": {
    "collapsed": true
   },
   "outputs": [],
   "source": [
    "# min(sigma, 1 - sigma)\n",
    "def pass_f(x):\n",
    "    x = min(max(x, MINEXP), MAXEXP)\n",
    "    return min(1 / (1 + np.exp(-x)), 1 - 1 / (1 + np.exp(-x)))\n",
    "\n",
    "def pass_df(x):\n",
    "    x = min(max(x, MINEXP), MAXEXP)\n",
    "    sigma = 1 / (1 + np.exp(-x))  \n",
    "    if x == 0:\n",
    "        return 0\n",
    "    elif x < 0:\n",
    "        return sigma * (1 - sigma)\n",
    "    else:\n",
    "        return -sigma * (1 - sigma)\n",
    "    \n",
    "def pass_d2f(x):\n",
    "    x = min(max(x, MINEXP), MAXEXP)\n",
    "    sigma = 1 / (1 + np.exp(-x))  \n",
    "    if x == 0:\n",
    "        return 0\n",
    "    elif x < 0:\n",
    "        return sigma * (1 - sigma) * (1 - sigma) - sigma * sigma * (1 - sigma)\n",
    "    else:\n",
    "        return -(sigma * (1 - sigma) * (1 - sigma) - sigma * sigma * (1 - sigma))"
   ]
  },
  {
   "cell_type": "code",
   "execution_count": 35,
   "metadata": {
    "collapsed": true
   },
   "outputs": [],
   "source": [
    "# exp(-x^2)\n",
    "def pass_f(x):\n",
    "    x = min(max(x, MINEXP), MAXEXP)\n",
    "    return np.exp(-(x * x))\n",
    "\n",
    "def pass_df(x):\n",
    "    x = min(max(x, MINEXP), MAXEXP)\n",
    "    sigma = np.exp(-(x * x))\n",
    "    return -sigma * 2 * x\n",
    "    \n",
    "def pass_d2f(x):\n",
    "    x = min(max(x, MINEXP), MAXEXP)\n",
    "    sigma = np.exp(-(x * x))\n",
    "    return 4 * sigma * x * x - 2 * sigma"
   ]
  },
  {
   "cell_type": "code",
   "execution_count": 36,
   "metadata": {
    "collapsed": false
   },
   "outputs": [
    {
     "name": "stdout",
     "output_type": "stream",
     "text": [
      "Epoch 1. Training loss : 193.465239 | Accuracy : 63.29 %\n",
      "-----------------------------------------------------------\n",
      "Epoch 2. Training loss : 323.263689 | Accuracy : 37.76 %\n",
      "-----------------------------------------------------------\n",
      "Epoch 3. Training loss : 276.586594 | Accuracy : 37.76 %\n",
      "-----------------------------------------------------------\n",
      "Epoch 4. Training loss : 415.656593 | Accuracy : 37.76 %\n",
      "-----------------------------------------------------------\n",
      "Epoch 5. Training loss : 432.512760 | Accuracy : 12.59 %\n",
      "-----------------------------------------------------------\n",
      "Epoch 6. Training loss : 397.657552 | Accuracy : 40.91 %\n",
      "-----------------------------------------------------------\n",
      "Epoch 7. Training loss : 369.214838 | Accuracy : 44.06 %\n",
      "-----------------------------------------------------------\n",
      "Epoch 8. Training loss : 330.294864 | Accuracy : 43.01 %\n",
      "-----------------------------------------------------------\n",
      "Epoch 9. Training loss : 268.333517 | Accuracy : 21.68 %\n",
      "-----------------------------------------------------------\n",
      "Epoch 10. Training loss : 265.911425 | Accuracy : 49.65 %\n",
      "-----------------------------------------------------------\n",
      "Epoch 11. Training loss : 215.895120 | Accuracy : 48.25 %\n",
      "-----------------------------------------------------------\n",
      "Epoch 12. Training loss : 213.480007 | Accuracy : 57.34 %\n",
      "-----------------------------------------------------------\n",
      "Epoch 13. Training loss : 209.207722 | Accuracy : 60.49 %\n",
      "-----------------------------------------------------------\n",
      "Epoch 14. Training loss : 277.665639 | Accuracy : 55.94 %\n",
      "-----------------------------------------------------------\n",
      "Epoch 15. Training loss : 275.294359 | Accuracy : 56.64 %\n",
      "-----------------------------------------------------------\n",
      "Epoch 16. Training loss : 271.211493 | Accuracy : 56.99 %\n",
      "-----------------------------------------------------------\n",
      "Epoch 17. Training loss : 265.231314 | Accuracy : 59.09 %\n",
      "-----------------------------------------------------------\n",
      "Epoch 18. Training loss : 261.089851 | Accuracy : 61.54 %\n",
      "-----------------------------------------------------------\n",
      "Epoch 19. Training loss : 263.620335 | Accuracy : 62.24 %\n",
      "-----------------------------------------------------------\n",
      "Epoch 20. Training loss : 260.814794 | Accuracy : 62.24 %\n",
      "-----------------------------------------------------------\n",
      "\n",
      "ALPHA = 0.10 | Validation loss : 86.603795\n",
      "===========================================================\n",
      "\n",
      "Validation final accuracy : 61.05 %\n",
      "Validation final normalized-cost : 0.03\n",
      "Testing accuracy : 64.36 %\n",
      "Testing normalized-cost : 0.03\n"
     ]
    }
   ],
   "source": [
    "results = []\n",
    "beta_list = [0.7]\n",
    "\n",
    "for beta in beta_list:\n",
    "    # Initialize stages\n",
    "    s0 = Stage([f[0], f[1], f[2], f[3], f[4]], pass_f, pass_df, pass_d2f, 's0')\n",
    "    s1 = Stage([f[5], f[6], f[7], f[8], f[9]], pass_f, pass_df, pass_d2f, 's1')\n",
    "    s2 = Stage([f[10], f[11], f[12], f[13], f[14]], pass_f, pass_df, pass_d2f, 's2')\n",
    "    s3 = Stage([f[15], f[16], f[17], f[18], f[19]], pass_f, pass_df, pass_d2f, 's3')\n",
    "    s4 = Stage([f[20], f[21], f[22], f[23], f[24]], pass_f, pass_df, pass_d2f, 's4')\n",
    "    s5 = Stage([f[25], f[26], f[27], f[28], f[29]], pass_f, pass_df, pass_d2f, 's5')\n",
    "    \n",
    "    \n",
    "    # Initialize cascade\n",
    "    c1 = Cascade([s0, s1, s2, s3, s4, s5], 30, False)\n",
    "    \n",
    "    # Relax into soft cascade and train\n",
    "    # Train + Cross-validation size : 800 \n",
    "    c1.train(X_train, Y_train, low_ALPHA = 0.1, high_ALPHA = 0.2, step_ALPHA = 2, BETA = beta, ETA = 0.2, EPSILON = 5e-3, ITERATIONS = 20, DEC_PERIOD = 50, DEC_FACTOR = 1, low_THRESH = 0.1, high_THRESH = 1.0, step_THRESH = 0.1, PERCENT_VAL = 25, visualize = False, stats = True)\n",
    "    # Testing\n",
    "    # Test size : 200 \n",
    "    acc, cost, count_c, count_w = c1.test(X_test, Y_test)\n",
    "    print(\"Testing accuracy : %.2f %%\" % acc)\n",
    "    print(\"Testing normalized-cost : %.2f\" % cost)\n",
    "    #results.append([beta, acc, cost])"
   ]
  },
  {
   "cell_type": "code",
   "execution_count": 37,
   "metadata": {
    "collapsed": false
   },
   "outputs": [
    {
     "data": {
      "text/plain": [
       "[0.4, 0.1, 0.1, 0.1, 0.1, 0]"
      ]
     },
     "execution_count": 37,
     "metadata": {},
     "output_type": "execute_result"
    }
   ],
   "source": [
    "c1.thresholds"
   ]
  },
  {
   "cell_type": "code",
   "execution_count": null,
   "metadata": {
    "collapsed": true
   },
   "outputs": [],
   "source": []
  },
  {
   "cell_type": "code",
   "execution_count": null,
   "metadata": {
    "collapsed": true
   },
   "outputs": [],
   "source": []
  },
  {
   "cell_type": "code",
   "execution_count": null,
   "metadata": {
    "collapsed": true
   },
   "outputs": [],
   "source": []
  }
 ],
 "metadata": {
  "kernelspec": {
   "display_name": "Python 3",
   "language": "python",
   "name": "python3"
  },
  "language_info": {
   "codemirror_mode": {
    "name": "ipython",
    "version": 3
   },
   "file_extension": ".py",
   "mimetype": "text/x-python",
   "name": "python",
   "nbconvert_exporter": "python",
   "pygments_lexer": "ipython3",
   "version": "3.6.0"
  }
 },
 "nbformat": 4,
 "nbformat_minor": 2
}
