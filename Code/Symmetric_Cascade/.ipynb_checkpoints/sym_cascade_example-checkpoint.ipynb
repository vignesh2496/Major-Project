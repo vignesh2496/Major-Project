{
 "cells": [
  {
   "cell_type": "code",
   "execution_count": 1,
   "metadata": {
    "collapsed": false
   },
   "outputs": [
    {
     "name": "stderr",
     "output_type": "stream",
     "text": [
      "/home/vignesh/anaconda3/lib/python3.6/site-packages/sklearn/cross_validation.py:41: DeprecationWarning: This module was deprecated in version 0.18 in favor of the model_selection module into which all the refactored classes and functions are moved. Also note that the interface of the new CV iterators are different from that of this module. This module will be removed in 0.20.\n",
      "  \"This module will be removed in 0.20.\", DeprecationWarning)\n"
     ]
    }
   ],
   "source": [
    "from sym_cascade import Feature, Stage, Cascade\n",
    "from sklearn.cross_validation import train_test_split\n",
    "import numpy as np\n",
    "\n",
    "# Limits\n",
    "MAXEXP = 700\n",
    "MINEXP = -MAXEXP"
   ]
  },
  {
   "cell_type": "code",
   "execution_count": 4,
   "metadata": {
    "collapsed": false
   },
   "outputs": [],
   "source": [
    "df = np.load('/home/vignesh/Desktop/Major-Project/Dataset/Cancer_Dataset/normalized_cancer_data.npy')\n",
    "# Make train and test sets\n",
    "X = df[:, : df.shape[1] - 1]\n",
    "Y = df[:, 30]\n",
    "X_train, X_test, Y_train, Y_test = train_test_split(X, Y, test_size = 0.33, random_state = 11)"
   ]
  },
  {
   "cell_type": "code",
   "execution_count": 5,
   "metadata": {
    "collapsed": true
   },
   "outputs": [],
   "source": [
    "# Create costs\n",
    "cost = np.zeros(30)\n",
    "for i in range(29):\n",
    "    cost[i] = (i + 1) * 0.00215\n",
    "cost[29] = 1 - sum(cost)\n",
    "\n",
    "# Create features\n",
    "f = []\n",
    "for i in range(30):\n",
    "    feature = Feature(i, cost[i], 'f%d' % i)\n",
    "    f.append(feature)"
   ]
  },
  {
   "cell_type": "code",
   "execution_count": 6,
   "metadata": {
    "collapsed": true
   },
   "outputs": [],
   "source": [
    "# min(sigma, 1 - sigma)\n",
    "def pass_f(x):\n",
    "    x = min(max(x, MINEXP), MAXEXP)\n",
    "    return min(1 / (1 + np.exp(-x)), 1 - 1 / (1 + np.exp(-x)))\n",
    "\n",
    "def pass_df(x):\n",
    "    x = min(max(x, MINEXP), MAXEXP)\n",
    "    sigma = 1 / (1 + np.exp(-x))  \n",
    "    if x == 0:\n",
    "        return 0\n",
    "    elif x < 0:\n",
    "        return sigma * (1 - sigma)\n",
    "    else:\n",
    "        return -sigma * (1 - sigma)\n",
    "    \n",
    "def pass_d2f(x):\n",
    "    x = min(max(x, MINEXP), MAXEXP)\n",
    "    sigma = 1 / (1 + np.exp(-x))  \n",
    "    if x == 0:\n",
    "        return 0\n",
    "    elif x < 0:\n",
    "        return sigma * (1 - sigma) * (1 - sigma) - sigma * sigma * (1 - sigma)\n",
    "    else:\n",
    "        return -(sigma * (1 - sigma) * (1 - sigma) - sigma * sigma * (1 - sigma))"
   ]
  },
  {
   "cell_type": "code",
   "execution_count": 7,
   "metadata": {
    "collapsed": true
   },
   "outputs": [],
   "source": [
    "# exp(-x^2)\n",
    "def pass_f(x):\n",
    "    x = min(max(x, MINEXP), MAXEXP)\n",
    "    return np.exp(-(x * x))\n",
    "\n",
    "def pass_df(x):\n",
    "    x = min(max(x, MINEXP), MAXEXP)\n",
    "    sigma = np.exp(-(x * x))\n",
    "    return -sigma * 2 * x\n",
    "    \n",
    "def pass_d2f(x):\n",
    "    x = min(max(x, MINEXP), MAXEXP)\n",
    "    sigma = np.exp(-(x * x))\n",
    "    return 4 * sigma * x * x - 2 * sigma"
   ]
  },
  {
   "cell_type": "code",
   "execution_count": null,
   "metadata": {
    "collapsed": true
   },
   "outputs": [],
   "source": [
    "results = []\n",
    "beta_list = [0.7]\n",
    "\n",
    "for beta in beta_list:\n",
    "    # Initialize stages\n",
    "    s0 = Stage([f[0], f[1], f[2], f[3], f[4]], pass_f, pass_df, pass_d2f, 's0')\n",
    "    s1 = Stage([f[5], f[6], f[7], f[8], f[9]], pass_f, pass_df, pass_d2f, 's1')\n",
    "    s2 = Stage([f[10], f[11], f[12], f[13], f[14]], pass_f, pass_df, pass_d2f, 's2')\n",
    "    s3 = Stage([f[15], f[16], f[17], f[18], f[19]], pass_f, pass_df, pass_d2f, 's3')\n",
    "    s4 = Stage([f[20], f[21], f[22], f[23], f[24]], pass_f, pass_df, pass_d2f, 's4')\n",
    "    s5 = Stage([f[25], f[26], f[27], f[28], f[29]], pass_f, pass_df, pass_d2f, 's5')\n",
    "    \n",
    "    \n",
    "    # Initialize cascade\n",
    "    c1 = Cascade([s0, s1, s2, s3, s4, s5], 30, False)\n",
    "    \n",
    "    # Relax into soft cascade and train\n",
    "    # Train + Cross-validation size : 800 \n",
    "    c1.train(X_train, Y_train, low_ALPHA = 0.1, high_ALPHA = 0.2, step_ALPHA = 2, BETA = beta, ETA = 0.2, EPSILON = 5e-3, ITERATIONS = 20, DEC_PERIOD = 50, DEC_FACTOR = 1, low_THRESH = 0.1, high_THRESH = 1.0, step_THRESH = 0.1, PERCENT_VAL = 25, visualize = False, stats = True)\n",
    "    # Testing\n",
    "    # Test size : 200 \n",
    "    acc, cost, count_c, count_w = c1.test(X_test, Y_test)\n",
    "    print(\"Testing accuracy : %.2f %%\" % acc)\n",
    "    print(\"Testing normalized-cost : %.2f\" % cost)\n",
    "    #results.append([beta, acc, cost])"
   ]
  }
 ],
 "metadata": {
  "kernelspec": {
   "display_name": "Python 3",
   "language": "python",
   "name": "python3"
  },
  "language_info": {
   "codemirror_mode": {
    "name": "ipython",
    "version": 3
   },
   "file_extension": ".py",
   "mimetype": "text/x-python",
   "name": "python",
   "nbconvert_exporter": "python",
   "pygments_lexer": "ipython3",
   "version": "3.6.0"
  }
 },
 "nbformat": 4,
 "nbformat_minor": 2
}
